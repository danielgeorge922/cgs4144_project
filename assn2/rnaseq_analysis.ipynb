{
 "cells": [
  {
   "cell_type": "code",
   "execution_count": 1,
   "id": "f6786ce0",
   "metadata": {},
   "outputs": [
    {
     "name": "stdout",
     "output_type": "stream",
     "text": [
      "(43363, 116)\n",
      "  refinebio_accession_code experiment_accession  refinebio_age  \\\n",
      "0               SRR3593218            SRP075806           60.0   \n",
      "1               SRR3593219            SRP075806           60.0   \n",
      "2               SRR3593220            SRP075806           60.0   \n",
      "3               SRR3593221            SRP075806           60.0   \n",
      "4               SRR3593222            SRP075806           60.0   \n",
      "\n",
      "   refinebio_cell_line  refinebio_compound  refinebio_developmental_stage  \\\n",
      "0                  NaN                 NaN                            NaN   \n",
      "1                  NaN                 NaN                            NaN   \n",
      "2                  NaN                 NaN                            NaN   \n",
      "3                  NaN                 NaN                            NaN   \n",
      "4                  NaN                 NaN                            NaN   \n",
      "\n",
      "  refinebio_disease  refinebio_disease_stage  refinebio_genetic_information  \\\n",
      "0               t2d                      NaN                            NaN   \n",
      "1               t2d                      NaN                            NaN   \n",
      "2               t2d                      NaN                            NaN   \n",
      "3               t2d                      NaN                            NaN   \n",
      "4               t2d                      NaN                            NaN   \n",
      "\n",
      "  refinebio_organism  ... refinebio_race  refinebio_sex  \\\n",
      "0       HOMO_SAPIENS  ...            NaN           male   \n",
      "1       HOMO_SAPIENS  ...            NaN           male   \n",
      "2       HOMO_SAPIENS  ...            NaN           male   \n",
      "3       HOMO_SAPIENS  ...            NaN           male   \n",
      "4       HOMO_SAPIENS  ...            NaN           male   \n",
      "\n",
      "   refinebio_source_archive_url refinebio_source_database  \\\n",
      "0                           NaN                       SRA   \n",
      "1                           NaN                       SRA   \n",
      "2                           NaN                       SRA   \n",
      "3                           NaN                       SRA   \n",
      "4                           NaN                       SRA   \n",
      "\n",
      "  refinebio_specimen_part        refinebio_subject refinebio_time  \\\n",
      "0                     NaN  vastus lateralis muscle            NaN   \n",
      "1                     NaN  vastus lateralis muscle            NaN   \n",
      "2                     NaN  vastus lateralis muscle            NaN   \n",
      "3                     NaN  vastus lateralis muscle            NaN   \n",
      "4                     NaN  vastus lateralis muscle            NaN   \n",
      "\n",
      "           refinebio_title refinebio_treatment  MetaSRA_age  \n",
      "0  male_96a_obese_t2d_0.5h                 NaN         60.0  \n",
      "1  male_96a_obese_t2d_0.5h                 NaN         60.0  \n",
      "2    male_96a_obese_t2d_1h                 NaN         60.0  \n",
      "3    male_96a_obese_t2d_1h                 NaN         60.0  \n",
      "4    male_96a_obese_t2d_2h                 NaN         60.0  \n",
      "\n",
      "[5 rows x 25 columns]\n"
     ]
    }
   ],
   "source": [
    "import pandas as pd\n",
    "import json\n",
    "\n",
    "# Expression data (genes x samples)\n",
    "expr = pd.read_csv(\"data/SRP075806/SRP075806.tsv\", sep=\"\\t\", index_col=0)\n",
    "\n",
    "# Sample metadata\n",
    "meta = pd.read_csv(\"data/SRP075806/metadata_SRP075806.tsv\", sep=\"\\t\")\n",
    "\n",
    "# Aggregated metadata (optional)\n",
    "with open(\"data/aggregated_metadata.json\") as f:\n",
    "    agg_meta = json.load(f)\n",
    "\n",
    "print(expr.shape)  # genes x samples\n",
    "print(meta.head())\n"
   ]
  },
  {
   "cell_type": "code",
   "execution_count": 2,
   "id": "407a2f17",
   "metadata": {},
   "outputs": [
    {
     "name": "stdout",
     "output_type": "stream",
     "text": [
      "                 SRR3593218  SRR3593219  SRR3593220  SRR3593221  SRR3593222  \\\n",
      "Gene                                                                          \n",
      "ENSG00000000003    5.117255    4.847048    4.908736    4.833782    4.673813   \n",
      "ENSG00000000005    0.559150    0.444701    0.776822    0.799970    0.050217   \n",
      "ENSG00000000419    5.528416    5.537584    6.194859    5.700547    5.640739   \n",
      "ENSG00000000457    2.782441    2.812636    2.785896    2.783374    2.840038   \n",
      "ENSG00000000460    2.303469    2.408211    2.196776    2.153675    2.252244   \n",
      "\n",
      "                 SRR3593223  SRR3593224  SRR3593225  SRR3593226  SRR3593227  \\\n",
      "Gene                                                                          \n",
      "ENSG00000000003    5.106616    4.900454    4.768684    4.991494    4.628079   \n",
      "ENSG00000000005    0.551383    0.919837    1.038256    0.942459    0.878956   \n",
      "ENSG00000000419    5.322609    5.546847    5.419967    5.517725    5.272013   \n",
      "ENSG00000000457    2.894735    2.777675    2.813574    2.783374    2.846607   \n",
      "ENSG00000000460    2.619496    2.437804    2.318836    2.164291    2.191817   \n",
      "\n",
      "                 ...  SRR3593331  SRR3593332  SRR3593333  SRR3593334  \\\n",
      "Gene             ...                                                   \n",
      "ENSG00000000003  ...    4.391256    4.628747    4.665980    4.789898   \n",
      "ENSG00000000005  ...    0.510079    0.877461    0.721835    0.093996   \n",
      "ENSG00000000419  ...    5.491843    5.598213    5.526259    5.546847   \n",
      "ENSG00000000457  ...    2.665930    2.799925    2.824402    2.966276   \n",
      "ENSG00000000460  ...    2.036457    2.045949    2.026393    2.129296   \n",
      "\n",
      "                 SRR3593335  SRR3593336  SRR3593337  SRR3593338  SRR3593339  \\\n",
      "Gene                                                                          \n",
      "ENSG00000000003    4.494100    4.187609    4.227086    4.077609    4.084048   \n",
      "ENSG00000000005    0.991541    1.241202    1.153279    1.076985    1.049860   \n",
      "ENSG00000000419    5.612270    4.423670    4.353569    4.340197    4.382553   \n",
      "ENSG00000000457    2.711774    2.845576    2.768372    2.790932    2.869184   \n",
      "ENSG00000000460    2.264408    2.438344    2.465494    2.236084    2.314338   \n",
      "\n",
      "                 SRR3593340  \n",
      "Gene                         \n",
      "ENSG00000000003    3.969172  \n",
      "ENSG00000000005    0.884884  \n",
      "ENSG00000000419    4.666798  \n",
      "ENSG00000000457    2.993992  \n",
      "ENSG00000000460    2.258280  \n",
      "\n",
      "[5 rows x 116 columns]\n",
      "Index(['SRR3593218', 'SRR3593219', 'SRR3593220', 'SRR3593221', 'SRR3593222'], dtype='object')\n"
     ]
    }
   ],
   "source": [
    "# Look at first few genes\n",
    "print(expr.head())\n",
    "\n",
    "# Match sample IDs in metadata\n",
    "print(expr.columns[:5])\n",
    "#print(meta['sample_accession'].head())\n"
   ]
  },
  {
   "cell_type": "code",
   "execution_count": 3,
   "id": "34ee51a9",
   "metadata": {},
   "outputs": [
    {
     "name": "stdout",
     "output_type": "stream",
     "text": [
      "(24886, 116)\n"
     ]
    }
   ],
   "source": [
    "# Keep genes with counts > 1 in at least, say, 5 samples\n",
    "filtered = expr[expr.gt(1).sum(axis=1) >= 5]\n",
    "print(filtered.shape)\n"
   ]
  },
  {
   "cell_type": "code",
   "execution_count": 4,
   "id": "44a7a6b9",
   "metadata": {},
   "outputs": [
    {
     "name": "stdout",
     "output_type": "stream",
     "text": [
      "count    43363.000000\n",
      "mean         2.498305\n",
      "std          7.314745\n",
      "min          0.072327\n",
      "25%          0.072327\n",
      "50%          0.709433\n",
      "75%          2.309189\n",
      "max        197.476136\n",
      "Name: SRR3593218, dtype: float64\n"
     ]
    }
   ],
   "source": [
    "print(expr.iloc[:,0].describe())"
   ]
  },
  {
   "cell_type": "code",
   "execution_count": 5,
   "id": "33f66787",
   "metadata": {},
   "outputs": [],
   "source": [
    "# Log-transform if not already\n",
    "import numpy as np\n",
    "log_expr = np.log2(filtered + 1)"
   ]
  },
  {
   "cell_type": "code",
   "execution_count": 6,
   "id": "448e499c",
   "metadata": {},
   "outputs": [
    {
     "data": {
      "image/png": "[encoded data removed]",
      "text/plain": [
       "<Figure size 640x480 with 1 Axes>"
      ]
     },
     "metadata": {},
     "output_type": "display_data"
    }
   ],
   "source": [
    "from sklearn.decomposition import PCA\n",
    "import matplotlib.pyplot as plt\n",
    "\n",
    "pca = PCA(n_components=2)\n",
    "pcs = pca.fit_transform(log_expr.T)  # transpose: samples x genes\n",
    "\n",
    "plt.scatter(pcs[:,0], pcs[:,1])\n",
    "plt.xlabel(\"PC1\")\n",
    "plt.ylabel(\"PC2\")\n",
    "plt.title(\"PCA of RNA-seq samples\")\n",
    "plt.show()\n"
   ]
  },
  {
   "cell_type": "code",
   "execution_count": 7,
   "id": "651b2b2a",
   "metadata": {},
   "outputs": [
    {
     "name": "stdout",
     "output_type": "stream",
     "text": [
      "Index(['refinebio_accession_code', 'experiment_accession', 'refinebio_age',\n",
      "       'refinebio_cell_line', 'refinebio_compound',\n",
      "       'refinebio_developmental_stage', 'refinebio_disease',\n",
      "       'refinebio_disease_stage', 'refinebio_genetic_information',\n",
      "       'refinebio_organism', 'refinebio_platform', 'refinebio_processed',\n",
      "       'refinebio_processor_id', 'refinebio_processor_name',\n",
      "       'refinebio_processor_version', 'refinebio_race', 'refinebio_sex',\n",
      "       'refinebio_source_archive_url', 'refinebio_source_database',\n",
      "       'refinebio_specimen_part', 'refinebio_subject', 'refinebio_time',\n",
      "       'refinebio_title', 'refinebio_treatment', 'MetaSRA_age'],\n",
      "      dtype='object')\n"
     ]
    },
    {
     "ename": "KeyError",
     "evalue": "'condition'",
     "output_type": "error",
     "traceback": [
      "\u001b[1;31m---------------------------------------------------------------------------\u001b[0m",
      "\u001b[1;31mKeyError\u001b[0m                                  Traceback (most recent call last)",
      "File \u001b[1;32md:\\projects\\cgs4144_project\\.venv\\lib\\site-packages\\pandas\\core\\indexes\\base.py:3812\u001b[0m, in \u001b[0;36mIndex.get_loc\u001b[1;34m(self, key)\u001b[0m\n\u001b[0;32m   3811\u001b[0m \u001b[38;5;28;01mtry\u001b[39;00m:\n\u001b[1;32m-> 3812\u001b[0m     \u001b[38;5;28;01mreturn\u001b[39;00m \u001b[38;5;28;43mself\u001b[39;49m\u001b[38;5;241;43m.\u001b[39;49m\u001b[43m_engine\u001b[49m\u001b[38;5;241;43m.\u001b[39;49m\u001b[43mget_loc\u001b[49m\u001b[43m(\u001b[49m\u001b[43mcasted_key\u001b[49m\u001b[43m)\u001b[49m\n\u001b[0;32m   3813\u001b[0m \u001b[38;5;28;01mexcept\u001b[39;00m \u001b[38;5;167;01mKeyError\u001b[39;00m \u001b[38;5;28;01mas\u001b[39;00m err:\n",
      "File \u001b[1;32mpandas/_libs/index.pyx:167\u001b[0m, in \u001b[0;36mpandas._libs.index.IndexEngine.get_loc\u001b[1;34m()\u001b[0m\n",
      "File \u001b[1;32mpandas/_libs/index.pyx:196\u001b[0m, in \u001b[0;36mpandas._libs.index.IndexEngine.get_loc\u001b[1;34m()\u001b[0m\n",
      "File \u001b[1;32mpandas/_libs/hashtable_class_helper.pxi:7088\u001b[0m, in \u001b[0;36mpandas._libs.hashtable.PyObjectHashTable.get_item\u001b[1;34m()\u001b[0m\n",
      "File \u001b[1;32mpandas/_libs/hashtable_class_helper.pxi:7096\u001b[0m, in \u001b[0;36mpandas._libs.hashtable.PyObjectHashTable.get_item\u001b[1;34m()\u001b[0m\n",
      "\u001b[1;31mKeyError\u001b[0m: 'condition'",
      "\nThe above exception was the direct cause of the following exception:\n",
      "\u001b[1;31mKeyError\u001b[0m                                  Traceback (most recent call last)",
      "Cell \u001b[1;32mIn[7], line 9\u001b[0m\n\u001b[0;32m      6\u001b[0m \u001b[38;5;28mprint\u001b[39m(meta\u001b[38;5;241m.\u001b[39mcolumns)\n\u001b[0;32m      8\u001b[0m \u001b[38;5;66;03m# Subset\u001b[39;00m\n\u001b[1;32m----> 9\u001b[0m samples \u001b[38;5;241m=\u001b[39m meta[\u001b[43mmeta\u001b[49m\u001b[43m[\u001b[49m\u001b[38;5;124;43m'\u001b[39;49m\u001b[38;5;124;43mcondition\u001b[39;49m\u001b[38;5;124;43m'\u001b[39;49m\u001b[43m]\u001b[49m\u001b[38;5;241m.\u001b[39misin([\u001b[38;5;124m'\u001b[39m\u001b[38;5;124mA\u001b[39m\u001b[38;5;124m'\u001b[39m, \u001b[38;5;124m'\u001b[39m\u001b[38;5;124mB\u001b[39m\u001b[38;5;124m'\u001b[39m])]\n\u001b[0;32m     10\u001b[0m sub_expr \u001b[38;5;241m=\u001b[39m log_expr[samples[\u001b[38;5;124m'\u001b[39m\u001b[38;5;124msample_accession\u001b[39m\u001b[38;5;124m'\u001b[39m]]\n\u001b[0;32m     12\u001b[0m \u001b[38;5;66;03m# Fit linear model gene by gene\u001b[39;00m\n",
      "File \u001b[1;32md:\\projects\\cgs4144_project\\.venv\\lib\\site-packages\\pandas\\core\\frame.py:4107\u001b[0m, in \u001b[0;36mDataFrame.__getitem__\u001b[1;34m(self, key)\u001b[0m\n\u001b[0;32m   4105\u001b[0m \u001b[38;5;28;01mif\u001b[39;00m \u001b[38;5;28mself\u001b[39m\u001b[38;5;241m.\u001b[39mcolumns\u001b[38;5;241m.\u001b[39mnlevels \u001b[38;5;241m>\u001b[39m \u001b[38;5;241m1\u001b[39m:\n\u001b[0;32m   4106\u001b[0m     \u001b[38;5;28;01mreturn\u001b[39;00m \u001b[38;5;28mself\u001b[39m\u001b[38;5;241m.\u001b[39m_getitem_multilevel(key)\n\u001b[1;32m-> 4107\u001b[0m indexer \u001b[38;5;241m=\u001b[39m \u001b[38;5;28;43mself\u001b[39;49m\u001b[38;5;241;43m.\u001b[39;49m\u001b[43mcolumns\u001b[49m\u001b[38;5;241;43m.\u001b[39;49m\u001b[43mget_loc\u001b[49m\u001b[43m(\u001b[49m\u001b[43mkey\u001b[49m\u001b[43m)\u001b[49m\n\u001b[0;32m   4108\u001b[0m \u001b[38;5;28;01mif\u001b[39;00m is_integer(indexer):\n\u001b[0;32m   4109\u001b[0m     indexer \u001b[38;5;241m=\u001b[39m [indexer]\n",
      "File \u001b[1;32md:\\projects\\cgs4144_project\\.venv\\lib\\site-packages\\pandas\\core\\indexes\\base.py:3819\u001b[0m, in \u001b[0;36mIndex.get_loc\u001b[1;34m(self, key)\u001b[0m\n\u001b[0;32m   3814\u001b[0m     \u001b[38;5;28;01mif\u001b[39;00m \u001b[38;5;28misinstance\u001b[39m(casted_key, \u001b[38;5;28mslice\u001b[39m) \u001b[38;5;129;01mor\u001b[39;00m (\n\u001b[0;32m   3815\u001b[0m         \u001b[38;5;28misinstance\u001b[39m(casted_key, abc\u001b[38;5;241m.\u001b[39mIterable)\n\u001b[0;32m   3816\u001b[0m         \u001b[38;5;129;01mand\u001b[39;00m \u001b[38;5;28many\u001b[39m(\u001b[38;5;28misinstance\u001b[39m(x, \u001b[38;5;28mslice\u001b[39m) \u001b[38;5;28;01mfor\u001b[39;00m x \u001b[38;5;129;01min\u001b[39;00m casted_key)\n\u001b[0;32m   3817\u001b[0m     ):\n\u001b[0;32m   3818\u001b[0m         \u001b[38;5;28;01mraise\u001b[39;00m InvalidIndexError(key)\n\u001b[1;32m-> 3819\u001b[0m     \u001b[38;5;28;01mraise\u001b[39;00m \u001b[38;5;167;01mKeyError\u001b[39;00m(key) \u001b[38;5;28;01mfrom\u001b[39;00m\u001b[38;5;250m \u001b[39m\u001b[38;5;21;01merr\u001b[39;00m\n\u001b[0;32m   3820\u001b[0m \u001b[38;5;28;01mexcept\u001b[39;00m \u001b[38;5;167;01mTypeError\u001b[39;00m:\n\u001b[0;32m   3821\u001b[0m     \u001b[38;5;66;03m# If we have a listlike key, _check_indexing_error will raise\u001b[39;00m\n\u001b[0;32m   3822\u001b[0m     \u001b[38;5;66;03m#  InvalidIndexError. Otherwise we fall through and re-raise\u001b[39;00m\n\u001b[0;32m   3823\u001b[0m     \u001b[38;5;66;03m#  the TypeError.\u001b[39;00m\n\u001b[0;32m   3824\u001b[0m     \u001b[38;5;28mself\u001b[39m\u001b[38;5;241m.\u001b[39m_check_indexing_error(key)\n",
      "\u001b[1;31mKeyError\u001b[0m: 'condition'"
     ]
    }
   ],
   "source": [
    "import statsmodels.api as sm\n",
    "import statsmodels.formula.api as smf\n",
    "\n",
    "# Example: compare condition A vs B\n",
    "# First make sure your metadata has a column for condition\n",
    "print(meta.columns)\n",
    "\n",
    "# Subset\n",
    "samples = meta[meta['condition'].isin(['A', 'B'])]\n",
    "sub_expr = log_expr[samples['sample_accession']]\n",
    "\n",
    "# Fit linear model gene by gene\n",
    "results = {}\n",
    "for gene in sub_expr.index:\n",
    "    df = samples.copy()\n",
    "    df['expr'] = sub_expr.loc[gene].values\n",
    "    model = smf.ols(\"expr ~ condition\", data=df).fit()\n",
    "    results[gene] = model.pvalues['condition[T.B]']\n",
    "\n",
    "de_results = pd.Series(results, name=\"pvalue\")\n"
   ]
  }
 ],
 "metadata": {
  "kernelspec": {
   "display_name": ".venv (3.10.6)",
   "language": "python",
   "name": "python3"
  },
  "language_info": {
   "codemirror_mode": {
    "name": "ipython",
    "version": 3
   },
   "file_extension": ".py",
   "mimetype": "text/x-python",
   "name": "python",
   "nbconvert_exporter": "python",
   "pygments_lexer": "ipython3",
   "version": "3.10.6"
  }
 },
 "nbformat": 4,
 "nbformat_minor": 5
}
